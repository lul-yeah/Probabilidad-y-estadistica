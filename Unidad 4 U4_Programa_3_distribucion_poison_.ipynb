{
  "nbformat": 4,
  "nbformat_minor": 0,
  "metadata": {
    "colab": {
      "provenance": [],
      "authorship_tag": "ABX9TyPteZX8WzhLOAVaXvvg9Ujq",
      "include_colab_link": true
    },
    "kernelspec": {
      "name": "python3",
      "display_name": "Python 3"
    },
    "language_info": {
      "name": "python"
    }
  },
  "cells": [
    {
      "cell_type": "markdown",
      "metadata": {
        "id": "view-in-github",
        "colab_type": "text"
      },
      "source": [
        "<a href=\"https://colab.research.google.com/github/lul-yeah/Probabilidad-y-estadistica/blob/main/Unidad%204%20U4_Programa_3_distribucion_poison_.ipynb\" target=\"_parent\"><img src=\"https://colab.research.google.com/assets/colab-badge.svg\" alt=\"Open In Colab\"/></a>"
      ]
    },
    {
      "cell_type": "code",
      "source": [
        "from scipy.stats import poisson"
      ],
      "metadata": {
        "id": "7W1nkO_q0c_y"
      },
      "execution_count": 1,
      "outputs": []
    },
    {
      "cell_type": "code",
      "source": [
        "media_accidentes = 2\n",
        "probabilidad_0_accidentes = poisson.pmf(k=0, mu=media_accidentes)\n",
        "print(\"1. Probabiliad de que no haya accidentes en una 1 semana\",probabilidad_0_accidentes)\n",
        "media_2_semanas = media_accidentes * 2\n",
        "probabilidad_3_o_menos_accidentes = poisson.cdf(k=3, mu=media_2_semanas)\n",
        "print(\"2. Probabilidad de que haya 3 accidentes en dos semanas\",probabilidad_3_o_menos_accidentes)"
      ],
      "metadata": {
        "colab": {
          "base_uri": "https://localhost:8080/"
        },
        "id": "oR7XNG3X0x3o",
        "outputId": "3db821a8-5fba-4a57-accd-ce695bebf4ae"
      },
      "execution_count": 4,
      "outputs": [
        {
          "output_type": "stream",
          "name": "stdout",
          "text": [
            "1. Probabiliad de que no haya accidentes en una 1 semana 0.1353352832366127\n",
            "2. Probabilidad de que haya 3 accidentes en dos semanas 0.43347012036670896\n"
          ]
        }
      ]
    },
    {
      "cell_type": "code",
      "source": [
        "media_muertes = 5000 * 0.001\n",
        "x = 4\n",
        "probabilidad_4_reclamaciones = poisson.pmf(k=x, mu=media_muertes)\n",
        "print(\"la probabilidad de que la compañia tenga que pgar 4 reclamaciones es de:\",probabilidad_4_reclamaciones)"
      ],
      "metadata": {
        "colab": {
          "base_uri": "https://localhost:8080/"
        },
        "id": "Zp7o8lOY3P4m",
        "outputId": "ce223fe1-dc53-4c94-d336-2b07fcde1342"
      },
      "execution_count": 5,
      "outputs": [
        {
          "output_type": "stream",
          "name": "stdout",
          "text": [
            "la probabilidad de que la compañia tenga que pgar 4 reclamaciones es de: 0.17546736976785063\n"
          ]
        }
      ]
    }
  ]
}