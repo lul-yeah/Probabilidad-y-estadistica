{
  "nbformat": 4,
  "nbformat_minor": 0,
  "metadata": {
    "colab": {
      "provenance": [],
      "authorship_tag": "ABX9TyOOpUkxJPUniPnQgLjTP/UN",
      "include_colab_link": true
    },
    "kernelspec": {
      "name": "python3",
      "display_name": "Python 3"
    },
    "language_info": {
      "name": "python"
    }
  },
  "cells": [
    {
      "cell_type": "markdown",
      "metadata": {
        "id": "view-in-github",
        "colab_type": "text"
      },
      "source": [
        "<a href=\"https://colab.research.google.com/github/lul-yeah/Probabilidad-y-estadistica/blob/main/practica_1_estadistica_descriptiva_basica_e_histogramas.ipynb\" target=\"_parent\"><img src=\"https://colab.research.google.com/assets/colab-badge.svg\" alt=\"Open In Colab\"/></a>"
      ]
    },
    {
      "cell_type": "markdown",
      "source": [
        "creador : josue hernande"
      ],
      "metadata": {
        "id": "xf4OfBMhzzpB"
      }
    },
    {
      "cell_type": "code",
      "execution_count": 5,
      "metadata": {
        "id": "yR8iyWfyvYP9"
      },
      "outputs": [],
      "source": [
        "from statistics import*"
      ]
    },
    {
      "cell_type": "code",
      "source": [
        "#lista de calificaciones del grupo a de probabilidad y estadistica\n",
        "grupoa=[70,70,65,90,100,95,45,80,73,20,100,96]\n",
        "print(grupoa)"
      ],
      "metadata": {
        "colab": {
          "base_uri": "https://localhost:8080/"
        },
        "id": "-MqpH01rwBTe",
        "outputId": "e71bd2c3-448a-4007-97dc-e4a19d88ea2c"
      },
      "execution_count": 1,
      "outputs": [
        {
          "output_type": "stream",
          "name": "stdout",
          "text": [
            "[70, 70, 65, 90, 100, 95, 45, 80, 73, 20, 100, 96]\n"
          ]
        }
      ]
    },
    {
      "cell_type": "code",
      "source": [
        "# sacar la media de las calificaciones con una formula\n",
        "promedio=sum(grupoa)/len(grupoa)\n",
        "print(promedio)"
      ],
      "metadata": {
        "colab": {
          "base_uri": "https://localhost:8080/"
        },
        "id": "LCoxlQ3txUVQ",
        "outputId": "15b39314-b76b-4c3b-e0e5-d00d92bcaec2"
      },
      "execution_count": 4,
      "outputs": [
        {
          "output_type": "stream",
          "name": "stdout",
          "text": [
            "75.33333333333333\n"
          ]
        }
      ]
    },
    {
      "cell_type": "code",
      "source": [
        "# utilizar la funcion mean que esta en la libreria para sacar\n",
        "# la mediana\n",
        "median_grouped=median(grupoa)\n",
        "print(median_grouped)"
      ],
      "metadata": {
        "colab": {
          "base_uri": "https://localhost:8080/"
        },
        "id": "_QN2tXuZyTHw",
        "outputId": "447dc879-b384-4d59-98bc-fc21494d54d8"
      },
      "execution_count": 6,
      "outputs": [
        {
          "output_type": "stream",
          "name": "stdout",
          "text": [
            "76.5\n"
          ]
        }
      ]
    },
    {
      "cell_type": "code",
      "source": [
        "# utilizar la funcion mean que esta en la libreria para sacar\n",
        "# la moda\n",
        "mode_grouped=mode(grupoa)\n",
        "print(mode_grouped)\n"
      ],
      "metadata": {
        "colab": {
          "base_uri": "https://localhost:8080/"
        },
        "id": "qEllig4ezILg",
        "outputId": "81e60ca7-31d2-42a2-fb55-64f486b3203c"
      },
      "execution_count": 7,
      "outputs": [
        {
          "output_type": "stream",
          "name": "stdout",
          "text": [
            "70\n"
          ]
        }
      ]
    },
    {
      "cell_type": "code",
      "source": [
        "multimodass=multimode(grupoa)\n",
        "print(multimodass)\n",
        "#"
      ],
      "metadata": {
        "colab": {
          "base_uri": "https://localhost:8080/"
        },
        "id": "bE2qEq9q11fb",
        "outputId": "40811b79-e4e2-49fd-a38b-6a6267f36190"
      },
      "execution_count": 9,
      "outputs": [
        {
          "output_type": "stream",
          "name": "stdout",
          "text": [
            "[70, 100]\n"
          ]
        }
      ]
    },
    {
      "cell_type": "code",
      "source": [
        "# definimos una variable llamada tiempos100mt de tipo lista que contiene los tiempos que tardaron 10 alumnos para correr los 100mt\n"
      ],
      "metadata": {
        "id": "UcoyfxBZ2u3R"
      },
      "execution_count": null,
      "outputs": []
    },
    {
      "cell_type": "code",
      "source": [
        "\n",
        "import random\n",
        "fabricas1=[]\n",
        "for i in range(100):\n",
        "  numero_aleatorio=round(random.uniform(50,100),2)\n",
        "  fabricas1.append(numero_aleatorio)\n",
        "print(fabricas1)"
      ],
      "metadata": {
        "colab": {
          "base_uri": "https://localhost:8080/"
        },
        "id": "gpUtxW-P3JJ1",
        "outputId": "e7954547-6d70-40d0-e000-ff1a02d31f8c"
      },
      "execution_count": 11,
      "outputs": [
        {
          "output_type": "stream",
          "name": "stdout",
          "text": [
            "[94.26, 95.04, 77.54, 70.31, 71.83, 93.41, 62.43, 94.18, 63.24, 52.48, 76.79, 66.72, 80.39, 99.43, 83.32, 57.82, 94.85, 82.47, 54.43, 87.99, 99.84, 80.73, 98.71, 80.27, 62.44, 94.8, 64.85, 92.23, 88.39, 60.74, 61.86, 97.08, 87.47, 72.56, 95.06, 80.67, 87.18, 95.66, 70.32, 72.58, 81.1, 58.31, 89.55, 79.27, 72.07, 58.12, 55.55, 82.45, 93.68, 83.78, 85.03, 94.99, 53.07, 97.38, 64.39, 78.53, 75.49, 81.56, 76.36, 95.85, 63.42, 57.08, 69.11, 65.87, 66.26, 58.22, 69.81, 92.08, 61.24, 53.57, 87.7, 75.33, 98.71, 50.48, 75.49, 54.95, 85.23, 54.62, 64.79, 80.66, 68.82, 75.98, 84.58, 79.9, 58.98, 85.28, 69.36, 98.44, 91.65, 76.59, 91.86, 77.21, 74.71, 60.21, 54.31, 90.01, 69.1, 71.31, 74.27, 74.82]\n"
          ]
        }
      ]
    },
    {
      "cell_type": "code",
      "source": [
        "import random\n",
        "fabricas2=[]\n",
        "for i in range(100):\n",
        "  numero_aleatorio=round(random.uniform(50,100),2)\n",
        "  fabricas2.append(numero_aleatorio)\n",
        "print(fabricas2)"
      ],
      "metadata": {
        "colab": {
          "base_uri": "https://localhost:8080/"
        },
        "id": "yrS_UCoc4w0_",
        "outputId": "46043dfc-9c9c-497c-f3b5-3056f863de82"
      },
      "execution_count": 14,
      "outputs": [
        {
          "output_type": "stream",
          "name": "stdout",
          "text": [
            "[75.14, 55.25, 68.47, 51.0, 55.54, 56.15, 50.36, 82.13, 50.2, 58.94, 80.03, 69.93, 99.03, 98.74, 62.3, 84.77, 50.01, 76.48, 85.21, 75.4, 58.11, 54.32, 58.76, 63.21, 78.85, 84.35, 54.42, 56.99, 53.68, 90.91, 72.74, 88.42, 77.22, 51.31, 67.8, 93.56, 57.28, 54.37, 54.38, 86.75, 51.29, 69.94, 81.46, 62.26, 64.63, 52.45, 72.61, 88.62, 63.88, 96.78, 66.28, 74.71, 67.22, 58.22, 92.03, 88.55, 61.04, 67.21, 80.07, 72.02, 61.63, 99.36, 86.4, 78.31, 89.18, 64.82, 84.17, 71.41, 86.97, 61.23, 94.65, 60.78, 83.37, 88.74, 59.48, 61.12, 72.2, 69.44, 94.46, 73.01, 80.33, 93.99, 99.39, 97.87, 68.85, 63.3, 56.03, 73.93, 79.84, 85.66, 68.11, 91.49, 90.19, 64.04, 74.14, 53.3, 96.29, 97.74, 76.39, 74.72]\n"
          ]
        }
      ]
    },
    {
      "cell_type": "code",
      "source": [
        "#libreria de python para graficar valores\n",
        "import matplotlib.pyplot as plt"
      ],
      "metadata": {
        "id": "djgJZOAO5bq5"
      },
      "execution_count": null,
      "outputs": []
    },
    {
      "cell_type": "code",
      "source": [
        "plt.hist(fabricas1)\n",
        "plt.show(\"produccion diaria de la fabrica 1\")\n",
        "plt.hist(fabricas1)\n",
        "plt.show() # plt.show does not take a title argument\n",
        "plt.title(\"produccion diaria de la fabrica 1\")\n",
        "\n"
      ],
      "metadata": {
        "colab": {
          "base_uri": "https://localhost:8080/",
          "height": 211
        },
        "id": "GurU3uNJ5odW",
        "outputId": "36bf8cfb-3bb9-445a-8e89-98dbf1c56d71"
      },
      "execution_count": 16,
      "outputs": [
        {
          "output_type": "error",
          "ename": "NameError",
          "evalue": "name 'plt' is not defined",
          "traceback": [
            "\u001b[0;31m---------------------------------------------------------------------------\u001b[0m",
            "\u001b[0;31mNameError\u001b[0m                                 Traceback (most recent call last)",
            "\u001b[0;32m<ipython-input-16-8f46876d978d>\u001b[0m in \u001b[0;36m<cell line: 0>\u001b[0;34m()\u001b[0m\n\u001b[0;32m----> 1\u001b[0;31m \u001b[0mplt\u001b[0m\u001b[0;34m.\u001b[0m\u001b[0mhist\u001b[0m\u001b[0;34m(\u001b[0m\u001b[0mfabricas1\u001b[0m\u001b[0;34m)\u001b[0m\u001b[0;34m\u001b[0m\u001b[0;34m\u001b[0m\u001b[0m\n\u001b[0m\u001b[1;32m      2\u001b[0m \u001b[0mplt\u001b[0m\u001b[0;34m.\u001b[0m\u001b[0mshow\u001b[0m\u001b[0;34m(\u001b[0m\u001b[0;34m\"produccion diaria de la fabrica 1\"\u001b[0m\u001b[0;34m)\u001b[0m\u001b[0;34m\u001b[0m\u001b[0;34m\u001b[0m\u001b[0m\n\u001b[1;32m      3\u001b[0m \u001b[0mplt\u001b[0m\u001b[0;34m.\u001b[0m\u001b[0mhist\u001b[0m\u001b[0;34m(\u001b[0m\u001b[0mfabricas1\u001b[0m\u001b[0;34m)\u001b[0m\u001b[0;34m\u001b[0m\u001b[0;34m\u001b[0m\u001b[0m\n\u001b[1;32m      4\u001b[0m \u001b[0mplt\u001b[0m\u001b[0;34m.\u001b[0m\u001b[0mshow\u001b[0m\u001b[0;34m(\u001b[0m\u001b[0;34m)\u001b[0m \u001b[0;31m# plt.show does not take a title argument\u001b[0m\u001b[0;34m\u001b[0m\u001b[0;34m\u001b[0m\u001b[0m\n\u001b[1;32m      5\u001b[0m \u001b[0mplt\u001b[0m\u001b[0;34m.\u001b[0m\u001b[0mtitle\u001b[0m\u001b[0;34m(\u001b[0m\u001b[0;34m\"produccion diaria de la fabrica 1\"\u001b[0m\u001b[0;34m)\u001b[0m\u001b[0;34m\u001b[0m\u001b[0;34m\u001b[0m\u001b[0m\n",
            "\u001b[0;31mNameError\u001b[0m: name 'plt' is not defined"
          ]
        }
      ]
    }
  ]
}