{
  "nbformat": 4,
  "nbformat_minor": 0,
  "metadata": {
    "colab": {
      "provenance": [],
      "authorship_tag": "ABX9TyMMrNHxrDgfIzTWVNsyFakr",
      "include_colab_link": true
    },
    "kernelspec": {
      "name": "python3",
      "display_name": "Python 3"
    },
    "language_info": {
      "name": "python"
    }
  },
  "cells": [
    {
      "cell_type": "markdown",
      "metadata": {
        "id": "view-in-github",
        "colab_type": "text"
      },
      "source": [
        "<a href=\"https://colab.research.google.com/github/lul-yeah/Probabilidad-y-estadistica/blob/main/Unidad%204%20distribuci%C3%B3n_binomial_Practica_2_Unidad_4.ipynb\" target=\"_parent\"><img src=\"https://colab.research.google.com/assets/colab-badge.svg\" alt=\"Open In Colab\"/></a>"
      ]
    },
    {
      "cell_type": "code",
      "execution_count": 6,
      "metadata": {
        "id": "AuYG66BpSG5s"
      },
      "outputs": [],
      "source": [
        "import numpy as np\n",
        "import matplotlib.pyplot as plt\n",
        "from scipy.stats import binom"
      ]
    },
    {
      "cell_type": "code",
      "source": [
        "probabilidad_exito = 0.83\n",
        "num_pacientes = 16\n",
        "x = 16\n",
        "probabilidad_ningun_enfermo = binom.pmf(x, num_pacientes, probabilidad_exito)\n",
        "print(\"la probabilidad de que ningun paciente sufra la enfermedad :\",probabilidad_ningun_enfermo)"
      ],
      "metadata": {
        "colab": {
          "base_uri": "https://localhost:8080/"
        },
        "id": "EdLIuQS1S6ex",
        "outputId": "58e434da-257a-47d2-9a92-906027a60407"
      },
      "execution_count": 3,
      "outputs": [
        {
          "output_type": "stream",
          "name": "stdout",
          "text": [
            "la probabilidad de que ningun paciente sufra la enfermedad : 0.0507282029895386\n"
          ]
        }
      ]
    },
    {
      "cell_type": "code",
      "source": [
        "probabilidad_exito = .83\n",
        "num_pacientes = 16\n",
        "x = 0\n",
        "probabilidad_todos_enfermo = binom.pmf(x, num_pacientes, probabilidad_exito)\n",
        "print(\"la probabilidad de que todos los paciente sufran la enfermedad :\",probabilidad_todos_enfermo)"
      ],
      "metadata": {
        "colab": {
          "base_uri": "https://localhost:8080/"
        },
        "id": "pEFyV2vTW8tH",
        "outputId": "3a6c9e97-5b20-4743-f993-0b00d96d392d"
      },
      "execution_count": 4,
      "outputs": [
        {
          "output_type": "stream",
          "name": "stdout",
          "text": [
            "la probabilidad de que todos los paciente sufran la enfermedad : 4.866119187566701e-13\n"
          ]
        }
      ]
    },
    {
      "cell_type": "code",
      "source": [
        "n = 10\n",
        "p = .10\n",
        "x = 2\n",
        "probabilidad_x_2 = binom.pmf(x, n, p)\n",
        "print(\"la probabilidad de que la variable aleatoria x sea igual a 2 es:\",probabilidad_x_2)"
      ],
      "metadata": {
        "colab": {
          "base_uri": "https://localhost:8080/"
        },
        "id": "Rm4u3tLDXwLz",
        "outputId": "12985e16-1d03-47af-e01c-75469ba608a0"
      },
      "execution_count": 5,
      "outputs": [
        {
          "output_type": "stream",
          "name": "stdout",
          "text": [
            "la probabilidad de que la variable aleatoria x sea igual a 2 es: 0.19371024450000007\n"
          ]
        }
      ]
    },
    {
      "cell_type": "code",
      "source": [
        "n = 10\n",
        "p = 0.10\n",
        "valores_x = np.arange(0, n + 1)\n",
        "probabilidades_x = binom.pmf(valores_x, n, p)  # Calculate probabilities for all x values at once\n",
        "print(\"valores de x\\tprobabilidades\")\n",
        "for x, probabilidad in zip(valores_x, probabilidades_x):\n",
        "    print(f\"{x}\\t\\t{probabilidad}\")\n",
        "plt.figure(figsize=(8, 6))\n",
        "plt.bar(valores_x, probabilidades_x, color='blue')\n",
        "plt.title('Distribución Binomial')\n",
        "plt.xlabel('Valores de x')\n",
        "plt.ylabel('Probabilidad')\n",
        "plt.xticks(valores_x)\n",
        "plt.grid(True)\n",
        "plt.show()\n"
      ],
      "metadata": {
        "colab": {
          "base_uri": "https://localhost:8080/",
          "height": 772
        },
        "id": "mEv-d369fxkM",
        "outputId": "cbd9d882-5272-48f7-951d-5e02a376644d"
      },
      "execution_count": 8,
      "outputs": [
        {
          "output_type": "stream",
          "name": "stdout",
          "text": [
            "valores de x\tprobabilidades\n",
            "0\t\t0.34867844009999993\n",
            "1\t\t0.38742048899999965\n",
            "2\t\t0.19371024450000007\n",
            "3\t\t0.05739562799999998\n",
            "4\t\t0.01116026100000001\n",
            "5\t\t0.0014880347999999995\n",
            "6\t\t0.00013778100000000007\n",
            "7\t\t8.748000000000003e-06\n",
            "8\t\t3.6449999999999996e-07\n",
            "9\t\t8.999999999999995e-09\n",
            "10\t\t1.0000000000000006e-10\n"
          ]
        },
        {
          "output_type": "display_data",
          "data": {
            "text/plain": [
              "<Figure size 800x600 with 1 Axes>"
            ],
            "image/png": "[encoded data removed]"
          },
          "metadata": {}
        }
      ]
    }
  ]
}