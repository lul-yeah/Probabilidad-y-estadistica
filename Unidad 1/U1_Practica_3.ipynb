{
  "nbformat": 4,
  "nbformat_minor": 0,
  "metadata": {
    "colab": {
      "provenance": [],
      "authorship_tag": "ABX9TyO2dNwvDK5cAweeoQzjK9VF",
      "include_colab_link": true
    },
    "kernelspec": {
      "name": "python3",
      "display_name": "Python 3"
    },
    "language_info": {
      "name": "python"
    }
  },
  "cells": [
    {
      "cell_type": "markdown",
      "metadata": {
        "id": "view-in-github",
        "colab_type": "text"
      },
      "source": [
        "<a href=\"https://colab.research.google.com/github/lul-yeah/Probabilidad-y-estadistica/blob/main/Unidad%201/U1_Practica_3.ipynb\" target=\"_parent\"><img src=\"https://colab.research.google.com/assets/colab-badge.svg\" alt=\"Open In Colab\"/></a>"
      ]
    },
    {
      "cell_type": "markdown",
      "source": [
        "Unidad 1\n",
        "\n",
        "practica 3 : maximo .minim ,rango y dispersion\n",
        "\n",
        "facilitador :dr jose gabriel rodriguez rivas\n",
        "\n",
        "alumno : Josue hernadez castro"
      ],
      "metadata": {
        "id": "W0XTjnUSfKuT"
      }
    },
    {
      "cell_type": "code",
      "execution_count": 9,
      "metadata": {
        "id": "dc040oUXe9mw"
      },
      "outputs": [],
      "source": [
        "import random\n",
        "import matplotlib.pyplot as plt\n",
        "from statistics import mean , median, mode # Explicitly import mean, median, and mode, median, mode # Explicitly import mean, median, and mode *\n",
        "import numpy as np # Import the numpy library and assign it the alias 'np'"
      ]
    },
    {
      "cell_type": "code",
      "source": [
        " import random\n",
        "fabricas1=[]\n",
        "for i in range(100):\n",
        "  numero_aleatorio=round(random.uniform(50,100),2)\n",
        "  fabricas1.append(numero_aleatorio)\n",
        "print(fabricas1)"
      ],
      "metadata": {
        "colab": {
          "base_uri": "https://localhost:8080/"
        },
        "id": "yrS_UCoc4w0_",
        "outputId": "89c7e62b-f21b-4316-8fc3-2493172fe279"
      },
      "execution_count": 6,
      "outputs": [
        {
          "output_type": "stream",
          "name": "stdout",
          "text": [
            "[57.81, 81.43, 81.36, 75.62, 99.1, 97.62, 80.57, 76.48, 59.46, 68.15, 67.02, 58.58, 87.18, 53.61, 94.03, 75.46, 94.4, 51.3, 83.33, 76.94, 55.24, 62.4, 60.04, 87.63, 75.87, 59.83, 81.14, 50.73, 56.57, 66.29, 65.83, 72.52, 97.07, 75.58, 90.71, 89.09, 54.7, 95.01, 67.22, 55.94, 67.22, 98.21, 57.36, 97.35, 65.15, 77.21, 83.83, 75.1, 89.77, 68.18, 98.82, 63.31, 92.41, 87.39, 65.29, 89.0, 76.39, 91.08, 67.67, 67.97, 79.29, 84.5, 94.27, 95.44, 95.49, 86.44, 52.03, 61.06, 64.87, 50.49, 70.82, 99.25, 78.81, 90.98, 88.48, 87.89, 98.78, 72.34, 89.37, 86.06, 70.09, 78.52, 98.12, 85.95, 89.39, 59.28, 74.57, 92.33, 57.31, 72.58, 74.19, 92.57, 66.47, 61.96, 95.5, 63.96, 94.14, 93.26, 90.75, 93.41]\n"
          ]
        }
      ]
    },
    {
      "cell_type": "code",
      "source": [
        "import random\n",
        "fabricas2=[]\n",
        "for i in range(100):\n",
        "  numero_aleatorio=round(random.uniform(50,100),2)\n",
        "  fabricas2.append(numero_aleatorio)\n",
        "print(fabricas2)\n"
      ],
      "metadata": {
        "colab": {
          "base_uri": "https://localhost:8080/"
        },
        "id": "T8pxzeis3hyg",
        "outputId": "655c5fa2-026e-4140-a7df-bd780c17375e"
      },
      "execution_count": 12,
      "outputs": [
        {
          "output_type": "stream",
          "name": "stdout",
          "text": [
            "[84.88, 50.39, 75.94, 93.38, 67.25, 53.47, 93.43, 93.47, 75.43, 62.41, 53.61, 74.97, 66.19, 73.48, 98.98, 52.47, 98.12, 96.23, 98.56, 81.06, 53.3, 76.73, 96.37, 74.77, 97.15, 65.97, 63.38, 76.8, 70.31, 88.32, 50.61, 64.89, 67.34, 82.56, 70.03, 67.09, 60.36, 55.63, 81.89, 70.45, 95.1, 96.87, 58.8, 85.81, 67.87, 77.2, 81.71, 91.46, 69.58, 96.77, 86.82, 81.3, 99.21, 51.17, 81.87, 50.85, 57.83, 66.39, 86.94, 93.32, 94.07, 82.26, 72.44, 70.42, 93.9, 90.02, 83.38, 54.13, 65.04, 96.24, 95.56, 53.89, 99.54, 90.78, 53.37, 84.13, 65.77, 91.56, 64.13, 84.3, 61.49, 68.49, 98.56, 86.77, 65.41, 86.45, 63.55, 65.83, 69.97, 80.25, 94.08, 61.01, 88.89, 55.58, 89.14, 86.34, 73.41, 75.09, 75.6, 87.46]\n"
          ]
        }
      ]
    },
    {
      "cell_type": "code",
      "source": [
        "maximo1=max(fabricas1)\n",
        "minimo1=min(fabricas1)\n",
        "rango1=maximo1-minimo1\n",
        "media1=mean(fabricas1)\n",
        "mediana1=median(fabricas1)\n",
        "moda1=mode(fabricas1)\n",
        "print( \"estadistica descriptiva de la fabrica 1\\n\" , \"media: \" , media1 , \"\\nmediana: \" , mediana1 , \"\\nmoda: \" , moda1 , \"\\n ,rango: \" , rango1 , \"\\nmaximo: \" , maximo1 , \"\\nminimo: \" , minimo1)\n"
      ],
      "metadata": {
        "colab": {
          "base_uri": "https://localhost:8080/"
        },
        "id": "TFA9_elyLfGl",
        "outputId": "cf1f58f3-233c-4103-e94a-182909135350"
      },
      "execution_count": 10,
      "outputs": [
        {
          "output_type": "stream",
          "name": "stdout",
          "text": [
            "estadistica descriptiva de la fabrica 1\n",
            " media:  77.4858 \n",
            "mediana:  77.07499999999999 \n",
            "moda:  67.22 \n",
            " ,rango:  48.76 \n",
            "maximo:  99.25 \n",
            "minimo:  50.49\n"
          ]
        }
      ]
    },
    {
      "cell_type": "code",
      "source": [
        "maximo2=max(fabricas2)\n",
        "minimo2=min(fabricas2)\n",
        "rango2=maximo2-minimo2\n",
        "media2=mean(fabricas2)\n",
        "mediana2=median(fabricas2)\n",
        "moda2=mode(fabricas2)\n",
        "print( \"estadistica descriptiva de la fabrica 2\\n\" , \"media: \" , media2 , \"\\nmediana: \" , mediana2 , \"\\nmoda: \" , moda2 , \"\\n ,rango: \" , rango2 , \"\\nmaximo: \" , maximo2 , \"\\nminimo: \" , minimo2)"
      ],
      "metadata": {
        "colab": {
          "base_uri": "https://localhost:8080/"
        },
        "id": "8LSmKxHZLgax",
        "outputId": "b96ffd9f-6178-4eb2-ce3e-d232a2991627"
      },
      "execution_count": 13,
      "outputs": [
        {
          "output_type": "stream",
          "name": "stdout",
          "text": [
            "estadistica descriptiva de la fabrica 2\n",
            " media:  76.7284 \n",
            "mediana:  76.33500000000001 \n",
            "moda:  98.56 \n",
            " ,rango:  49.150000000000006 \n",
            "maximo:  99.54 \n",
            "minimo:  50.39\n"
          ]
        }
      ]
    },
    {
      "cell_type": "markdown",
      "source": [
        "## dispersion de datos"
      ],
      "metadata": {
        "id": "zkTQnVKFKctc"
      }
    },
    {
      "cell_type": "code",
      "source": [
        "desviacion_estandar2 = np.std(fabricas2)\n",
        "print(desviacion_estandar2)"
      ],
      "metadata": {
        "colab": {
          "base_uri": "https://localhost:8080/",
          "height": 158
        },
        "id": "oewRr8hjjwUT",
        "outputId": "0b265c98-fba8-442d-a91e-7e0229a0095c"
      },
      "execution_count": 22,
      "outputs": [
        {
          "output_type": "error",
          "ename": "NameError",
          "evalue": "name 'np' is not defined",
          "traceback": [
            "\u001b[0;31m---------------------------------------------------------------------------\u001b[0m",
            "\u001b[0;31mNameError\u001b[0m                                 Traceback (most recent call last)",
            "\u001b[0;32m<ipython-input-22-7f68aad5d753>\u001b[0m in \u001b[0;36m<cell line: 0>\u001b[0;34m()\u001b[0m\n\u001b[0;32m----> 1\u001b[0;31m \u001b[0mdesviacion_estandar2\u001b[0m \u001b[0;34m=\u001b[0m \u001b[0mnp\u001b[0m\u001b[0;34m.\u001b[0m\u001b[0mstd\u001b[0m\u001b[0;34m(\u001b[0m\u001b[0mfabricas2\u001b[0m\u001b[0;34m)\u001b[0m\u001b[0;34m\u001b[0m\u001b[0;34m\u001b[0m\u001b[0m\n\u001b[0m\u001b[1;32m      2\u001b[0m \u001b[0mprint\u001b[0m\u001b[0;34m(\u001b[0m\u001b[0mdesviacion_estandar2\u001b[0m\u001b[0;34m)\u001b[0m\u001b[0;34m\u001b[0m\u001b[0;34m\u001b[0m\u001b[0m\n",
            "\u001b[0;31mNameError\u001b[0m: name 'np' is not defined"
          ]
        }
      ]
    },
    {
      "cell_type": "code",
      "source": [
        "desviacion_estandar2 = np.std(fabricas2)\n",
        "print(desviacion_estandar2)"
      ],
      "metadata": {
        "id": "PjrmNgZtj6V8",
        "colab": {
          "base_uri": "https://localhost:8080/",
          "height": 158
        },
        "outputId": "b248f983-dd2c-49e7-8585-540f19255c7f"
      },
      "execution_count": 24,
      "outputs": [
        {
          "output_type": "error",
          "ename": "NameError",
          "evalue": "name 'np' is not defined",
          "traceback": [
            "\u001b[0;31m---------------------------------------------------------------------------\u001b[0m",
            "\u001b[0;31mNameError\u001b[0m                                 Traceback (most recent call last)",
            "\u001b[0;32m<ipython-input-24-7f68aad5d753>\u001b[0m in \u001b[0;36m<cell line: 0>\u001b[0;34m()\u001b[0m\n\u001b[0;32m----> 1\u001b[0;31m \u001b[0mdesviacion_estandar2\u001b[0m \u001b[0;34m=\u001b[0m \u001b[0mnp\u001b[0m\u001b[0;34m.\u001b[0m\u001b[0mstd\u001b[0m\u001b[0;34m(\u001b[0m\u001b[0mfabricas2\u001b[0m\u001b[0;34m)\u001b[0m\u001b[0;34m\u001b[0m\u001b[0;34m\u001b[0m\u001b[0m\n\u001b[0m\u001b[1;32m      2\u001b[0m \u001b[0mprint\u001b[0m\u001b[0;34m(\u001b[0m\u001b[0mdesviacion_estandar2\u001b[0m\u001b[0;34m)\u001b[0m\u001b[0;34m\u001b[0m\u001b[0;34m\u001b[0m\u001b[0m\n",
            "\u001b[0;31mNameError\u001b[0m: name 'np' is not defined"
          ]
        }
      ]
    },
    {
      "cell_type": "code",
      "source": [
        "figsize = (8, 6)\n",
        "plt.figure(figsize=figsize)\n",
        "plt.hist(fabricas1, bins=10, alpha=0.2, color=\"b\", edgecolor=\"black\")\n",
        "plt.axvline(media1, color=\"b\", linestyle=\"dashed\", linewidth=2, label=f\"media={media1:.2f}\")\n",
        "plt.axvline(mediana1, color=\"r\", linestyle=\"dashed\", linewidth=2, label=f\"mediana={mediana1:.2f}\")\n",
        "plt.axvline(moda1, color=\"g\", linestyle=\"dashed\", linewidth=2, label=f\"moda={moda1:.2f}\")\n",
        "plt.axvline(desviacion_estandar1, color=\"y\", linestyle=\"dashed\", linewidth=2, label=f\"desviacion_estandar={desviacion_estandar1:.2f}\")\n",
        "plt.title(\"Producción diaria de la fábrica 1\")\n",
        "plt.legend()\n",
        "plt.show()\n",
        "\n",
        "\n"
      ],
      "metadata": {
        "colab": {
          "base_uri": "https://localhost:8080/",
          "height": 733
        },
        "id": "nPYtfonJkRxt",
        "outputId": "d6a8cc83-046c-4bd6-8f9e-f79517343445"
      },
      "execution_count": 20,
      "outputs": [
        {
          "output_type": "error",
          "ename": "NameError",
          "evalue": "name 'desviacion_estandar1' is not defined",
          "traceback": [
            "\u001b[0;31m---------------------------------------------------------------------------\u001b[0m",
            "\u001b[0;31mNameError\u001b[0m                                 Traceback (most recent call last)",
            "\u001b[0;32m<ipython-input-20-fa787df9532c>\u001b[0m in \u001b[0;36m<cell line: 0>\u001b[0;34m()\u001b[0m\n\u001b[1;32m      5\u001b[0m \u001b[0mplt\u001b[0m\u001b[0;34m.\u001b[0m\u001b[0maxvline\u001b[0m\u001b[0;34m(\u001b[0m\u001b[0mmediana1\u001b[0m\u001b[0;34m,\u001b[0m \u001b[0mcolor\u001b[0m\u001b[0;34m=\u001b[0m\u001b[0;34m\"r\"\u001b[0m\u001b[0;34m,\u001b[0m \u001b[0mlinestyle\u001b[0m\u001b[0;34m=\u001b[0m\u001b[0;34m\"dashed\"\u001b[0m\u001b[0;34m,\u001b[0m \u001b[0mlinewidth\u001b[0m\u001b[0;34m=\u001b[0m\u001b[0;36m2\u001b[0m\u001b[0;34m,\u001b[0m \u001b[0mlabel\u001b[0m\u001b[0;34m=\u001b[0m\u001b[0;34mf\"mediana={mediana1:.2f}\"\u001b[0m\u001b[0;34m)\u001b[0m\u001b[0;34m\u001b[0m\u001b[0;34m\u001b[0m\u001b[0m\n\u001b[1;32m      6\u001b[0m \u001b[0mplt\u001b[0m\u001b[0;34m.\u001b[0m\u001b[0maxvline\u001b[0m\u001b[0;34m(\u001b[0m\u001b[0mmoda1\u001b[0m\u001b[0;34m,\u001b[0m \u001b[0mcolor\u001b[0m\u001b[0;34m=\u001b[0m\u001b[0;34m\"g\"\u001b[0m\u001b[0;34m,\u001b[0m \u001b[0mlinestyle\u001b[0m\u001b[0;34m=\u001b[0m\u001b[0;34m\"dashed\"\u001b[0m\u001b[0;34m,\u001b[0m \u001b[0mlinewidth\u001b[0m\u001b[0;34m=\u001b[0m\u001b[0;36m2\u001b[0m\u001b[0;34m,\u001b[0m \u001b[0mlabel\u001b[0m\u001b[0;34m=\u001b[0m\u001b[0;34mf\"moda={moda1:.2f}\"\u001b[0m\u001b[0;34m)\u001b[0m\u001b[0;34m\u001b[0m\u001b[0;34m\u001b[0m\u001b[0m\n\u001b[0;32m----> 7\u001b[0;31m \u001b[0mplt\u001b[0m\u001b[0;34m.\u001b[0m\u001b[0maxvline\u001b[0m\u001b[0;34m(\u001b[0m\u001b[0mdesviacion_estandar1\u001b[0m\u001b[0;34m,\u001b[0m \u001b[0mcolor\u001b[0m\u001b[0;34m=\u001b[0m\u001b[0;34m\"y\"\u001b[0m\u001b[0;34m,\u001b[0m \u001b[0mlinestyle\u001b[0m\u001b[0;34m=\u001b[0m\u001b[0;34m\"dashed\"\u001b[0m\u001b[0;34m,\u001b[0m \u001b[0mlinewidth\u001b[0m\u001b[0;34m=\u001b[0m\u001b[0;36m2\u001b[0m\u001b[0;34m,\u001b[0m \u001b[0mlabel\u001b[0m\u001b[0;34m=\u001b[0m\u001b[0;34mf\"desviacion_estandar={desviacion_estandar1:.2f}\"\u001b[0m\u001b[0;34m)\u001b[0m\u001b[0;34m\u001b[0m\u001b[0;34m\u001b[0m\u001b[0m\n\u001b[0m\u001b[1;32m      8\u001b[0m \u001b[0mplt\u001b[0m\u001b[0;34m.\u001b[0m\u001b[0mtitle\u001b[0m\u001b[0;34m(\u001b[0m\u001b[0;34m\"Producción diaria de la fábrica 1\"\u001b[0m\u001b[0;34m)\u001b[0m\u001b[0;34m\u001b[0m\u001b[0;34m\u001b[0m\u001b[0m\n\u001b[1;32m      9\u001b[0m \u001b[0mplt\u001b[0m\u001b[0;34m.\u001b[0m\u001b[0mlegend\u001b[0m\u001b[0;34m(\u001b[0m\u001b[0;34m)\u001b[0m\u001b[0;34m\u001b[0m\u001b[0;34m\u001b[0m\u001b[0m\n",
            "\u001b[0;31mNameError\u001b[0m: name 'desviacion_estandar1' is not defined"
          ]
        },
        {
          "output_type": "display_data",
          "data": {
            "text/plain": [
              "<Figure size 800x600 with 1 Axes>"
            ],
            "image/png": "[encoded data removed]"
          },
          "metadata": {}
        }
      ]
    },
    {
      "cell_type": "code",
      "source": [
        "figsize = (8, 6)\n",
        "plt.figure(figsize=figsize)\n",
        "plt.hist(fabricas2, bins=10, alpha=0.2, color=\"b\", edgecolor=\"black\")\n",
        "plt.axvline(media2, color=\"b\", linestyle=\"dashed\", linewidth=2, label=f\"media={media2:.2f}\")\n",
        "plt.axvline(mediana2, color=\"r\", linestyle=\"dashed\", linewidth=2, label=f\"mediana={mediana2:.2f}\")\n",
        "plt.axvline(moda2, color=\"g\", linestyle=\"dashed\", linewidth=2, label=f\"moda={moda2:.2f}\")\n",
        "plt.axvline(desviacion_estandar2, color=\"y\", linestyle=\"dashed\", linewidth=2, label=f\"desviacion_estandar={desviacion_estandar2:.2f}\")\n",
        "plt.title(\"Producción diaria de la fábrica 2\")\n",
        "plt.legend()\n",
        "plt.show()"
      ],
      "metadata": {
        "colab": {
          "base_uri": "https://localhost:8080/",
          "height": 733
        },
        "id": "CR-fTejXZ6jZ",
        "outputId": "5dab13a8-5a0a-4f05-affa-2676f8a4d59e"
      },
      "execution_count": 23,
      "outputs": [
        {
          "output_type": "error",
          "ename": "NameError",
          "evalue": "name 'desviacion_estandar2' is not defined",
          "traceback": [
            "\u001b[0;31m---------------------------------------------------------------------------\u001b[0m",
            "\u001b[0;31mNameError\u001b[0m                                 Traceback (most recent call last)",
            "\u001b[0;32m<ipython-input-23-08a3c7abee86>\u001b[0m in \u001b[0;36m<cell line: 0>\u001b[0;34m()\u001b[0m\n\u001b[1;32m      5\u001b[0m \u001b[0mplt\u001b[0m\u001b[0;34m.\u001b[0m\u001b[0maxvline\u001b[0m\u001b[0;34m(\u001b[0m\u001b[0mmediana2\u001b[0m\u001b[0;34m,\u001b[0m \u001b[0mcolor\u001b[0m\u001b[0;34m=\u001b[0m\u001b[0;34m\"r\"\u001b[0m\u001b[0;34m,\u001b[0m \u001b[0mlinestyle\u001b[0m\u001b[0;34m=\u001b[0m\u001b[0;34m\"dashed\"\u001b[0m\u001b[0;34m,\u001b[0m \u001b[0mlinewidth\u001b[0m\u001b[0;34m=\u001b[0m\u001b[0;36m2\u001b[0m\u001b[0;34m,\u001b[0m \u001b[0mlabel\u001b[0m\u001b[0;34m=\u001b[0m\u001b[0;34mf\"mediana={mediana2:.2f}\"\u001b[0m\u001b[0;34m)\u001b[0m\u001b[0;34m\u001b[0m\u001b[0;34m\u001b[0m\u001b[0m\n\u001b[1;32m      6\u001b[0m \u001b[0mplt\u001b[0m\u001b[0;34m.\u001b[0m\u001b[0maxvline\u001b[0m\u001b[0;34m(\u001b[0m\u001b[0mmoda2\u001b[0m\u001b[0;34m,\u001b[0m \u001b[0mcolor\u001b[0m\u001b[0;34m=\u001b[0m\u001b[0;34m\"g\"\u001b[0m\u001b[0;34m,\u001b[0m \u001b[0mlinestyle\u001b[0m\u001b[0;34m=\u001b[0m\u001b[0;34m\"dashed\"\u001b[0m\u001b[0;34m,\u001b[0m \u001b[0mlinewidth\u001b[0m\u001b[0;34m=\u001b[0m\u001b[0;36m2\u001b[0m\u001b[0;34m,\u001b[0m \u001b[0mlabel\u001b[0m\u001b[0;34m=\u001b[0m\u001b[0;34mf\"moda={moda2:.2f}\"\u001b[0m\u001b[0;34m)\u001b[0m\u001b[0;34m\u001b[0m\u001b[0;34m\u001b[0m\u001b[0m\n\u001b[0;32m----> 7\u001b[0;31m \u001b[0mplt\u001b[0m\u001b[0;34m.\u001b[0m\u001b[0maxvline\u001b[0m\u001b[0;34m(\u001b[0m\u001b[0mdesviacion_estandar2\u001b[0m\u001b[0;34m,\u001b[0m \u001b[0mcolor\u001b[0m\u001b[0;34m=\u001b[0m\u001b[0;34m\"y\"\u001b[0m\u001b[0;34m,\u001b[0m \u001b[0mlinestyle\u001b[0m\u001b[0;34m=\u001b[0m\u001b[0;34m\"dashed\"\u001b[0m\u001b[0;34m,\u001b[0m \u001b[0mlinewidth\u001b[0m\u001b[0;34m=\u001b[0m\u001b[0;36m2\u001b[0m\u001b[0;34m,\u001b[0m \u001b[0mlabel\u001b[0m\u001b[0;34m=\u001b[0m\u001b[0;34mf\"desviacion_estandar={desviacion_estandar2:.2f}\"\u001b[0m\u001b[0;34m)\u001b[0m\u001b[0;34m\u001b[0m\u001b[0;34m\u001b[0m\u001b[0m\n\u001b[0m\u001b[1;32m      8\u001b[0m \u001b[0mplt\u001b[0m\u001b[0;34m.\u001b[0m\u001b[0mtitle\u001b[0m\u001b[0;34m(\u001b[0m\u001b[0;34m\"Producción diaria de la fábrica 2\"\u001b[0m\u001b[0;34m)\u001b[0m\u001b[0;34m\u001b[0m\u001b[0;34m\u001b[0m\u001b[0m\n\u001b[1;32m      9\u001b[0m \u001b[0mplt\u001b[0m\u001b[0;34m.\u001b[0m\u001b[0mlegend\u001b[0m\u001b[0;34m(\u001b[0m\u001b[0;34m)\u001b[0m\u001b[0;34m\u001b[0m\u001b[0;34m\u001b[0m\u001b[0m\n",
            "\u001b[0;31mNameError\u001b[0m: name 'desviacion_estandar2' is not defined"
          ]
        },
        {
          "output_type": "display_data",
          "data": {
            "text/plain": [
              "<Figure size 800x600 with 1 Axes>"
            ],
            "image/png": "[encoded data removed]"
          },
          "metadata": {}
        }
      ]
    },
    {
      "cell_type": "code",
      "source": [
        "\n"
      ],
      "metadata": {
        "id": "cKRuBIJbm1bE"
      },
      "execution_count": null,
      "outputs": []
    },
    {
      "cell_type": "code",
      "source": [
        "import seaborn as sns\n",
        "sns.set_theme(style=\"whitegrid\")\n"
      ],
      "metadata": {
        "id": "726HoC0Uoei6"
      },
      "execution_count": null,
      "outputs": []
    },
    {
      "cell_type": "code",
      "source": [
        "#la densidad grafica es una forma de vizualizar la distribucion de datos en un\n",
        "# un intervalo"
      ],
      "metadata": {
        "id": "nOqorWl4owpa"
      },
      "execution_count": null,
      "outputs": []
    }
  ]
}